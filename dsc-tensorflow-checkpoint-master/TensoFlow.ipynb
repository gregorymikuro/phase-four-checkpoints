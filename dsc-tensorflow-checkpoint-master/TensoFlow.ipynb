{
  "cells": [
    {
      "cell_type": "markdown",
      "metadata": {
        "deletable": false,
        "editable": false,
        "id": "lqh3Htl11xLr",
        "nbgrader": {
          "cell_type": "markdown",
          "checksum": "a0e703511e0fb97e509d2e2c46580189",
          "grade": false,
          "grade_id": "cell-a405f9c797c90edb",
          "locked": true,
          "schema_version": 3,
          "solution": false,
          "task": false
        }
      },
      "source": [
        "# TensorFlow Checkpoint\n",
        "\n",
        "This assessment covers building and training a `tf.keras` `Sequential` model, then applying regularization.  The dataset comes from a [\"don't overfit\" Kaggle competition](https://www.kaggle.com/c/dont-overfit-ii).  There are 300 features labeled 0-299, and a binary target called \"target\".  There are only 250 records total, meaning this is a very small dataset to be used with a neural network.\n",
        "\n",
        "_You can assume that the dataset has already been scaled._"
      ]
    },
    {
      "cell_type": "code",
      "source": [
        "!pip install scikeras\n"
      ],
      "metadata": {
        "id": "HD3_WqCmgJQB",
        "outputId": "53d5955d-844a-4dbb-9ce1-08e3cb87f150",
        "colab": {
          "base_uri": "https://localhost:8080/"
        }
      },
      "execution_count": null,
      "outputs": [
        {
          "output_type": "stream",
          "name": "stdout",
          "text": [
            "Requirement already satisfied: scikeras in /usr/local/lib/python3.10/dist-packages (0.13.0)\n",
            "Requirement already satisfied: keras>=3.2.0 in /usr/local/lib/python3.10/dist-packages (from scikeras) (3.3.3)\n",
            "Requirement already satisfied: scikit-learn>=1.4.2 in /usr/local/lib/python3.10/dist-packages (from scikeras) (1.5.0)\n",
            "Requirement already satisfied: absl-py in /usr/local/lib/python3.10/dist-packages (from keras>=3.2.0->scikeras) (1.4.0)\n",
            "Requirement already satisfied: numpy in /usr/local/lib/python3.10/dist-packages (from keras>=3.2.0->scikeras) (1.25.2)\n",
            "Requirement already satisfied: rich in /usr/local/lib/python3.10/dist-packages (from keras>=3.2.0->scikeras) (13.7.1)\n",
            "Requirement already satisfied: namex in /usr/local/lib/python3.10/dist-packages (from keras>=3.2.0->scikeras) (0.0.8)\n",
            "Requirement already satisfied: h5py in /usr/local/lib/python3.10/dist-packages (from keras>=3.2.0->scikeras) (3.9.0)\n",
            "Requirement already satisfied: optree in /usr/local/lib/python3.10/dist-packages (from keras>=3.2.0->scikeras) (0.11.0)\n",
            "Requirement already satisfied: ml-dtypes in /usr/local/lib/python3.10/dist-packages (from keras>=3.2.0->scikeras) (0.2.0)\n",
            "Requirement already satisfied: scipy>=1.6.0 in /usr/local/lib/python3.10/dist-packages (from scikit-learn>=1.4.2->scikeras) (1.11.4)\n",
            "Requirement already satisfied: joblib>=1.2.0 in /usr/local/lib/python3.10/dist-packages (from scikit-learn>=1.4.2->scikeras) (1.4.2)\n",
            "Requirement already satisfied: threadpoolctl>=3.1.0 in /usr/local/lib/python3.10/dist-packages (from scikit-learn>=1.4.2->scikeras) (3.5.0)\n",
            "Requirement already satisfied: typing-extensions>=4.0.0 in /usr/local/lib/python3.10/dist-packages (from optree->keras>=3.2.0->scikeras) (4.12.2)\n",
            "Requirement already satisfied: markdown-it-py>=2.2.0 in /usr/local/lib/python3.10/dist-packages (from rich->keras>=3.2.0->scikeras) (3.0.0)\n",
            "Requirement already satisfied: pygments<3.0.0,>=2.13.0 in /usr/local/lib/python3.10/dist-packages (from rich->keras>=3.2.0->scikeras) (2.16.1)\n",
            "Requirement already satisfied: mdurl~=0.1 in /usr/local/lib/python3.10/dist-packages (from markdown-it-py>=2.2.0->rich->keras>=3.2.0->scikeras) (0.1.2)\n"
          ]
        }
      ]
    },
    {
      "cell_type": "code",
      "execution_count": null,
      "metadata": {
        "ExecuteTime": {
          "end_time": "2020-11-04T16:46:28.793582Z",
          "start_time": "2020-11-04T16:46:24.326301Z"
        },
        "deletable": false,
        "editable": false,
        "id": "0jcETHDm1xLx",
        "nbgrader": {
          "cell_type": "code",
          "checksum": "5cf667da844c7bac88c4a6b2d1e9ab3b",
          "grade": false,
          "grade_id": "cell-4ab18aba8319e5bb",
          "locked": true,
          "schema_version": 3,
          "solution": false,
          "task": false
        }
      },
      "outputs": [],
      "source": [
        "# Run this cell without changes\n",
        "\n",
        "import matplotlib.pyplot as plt\n",
        "import seaborn as sns\n",
        "\n",
        "import numpy as np\n",
        "import pandas as pd\n",
        "from sklearn.metrics import accuracy_score\n",
        "from sklearn.model_selection import train_test_split\n",
        "\n",
        "import tensorflow as tf\n",
        "from tensorflow.keras import Sequential, regularizers\n",
        "from tensorflow.keras.layers import Dense, Dropout\n",
        "from scikeras.wrappers import KerasClassifier"
      ]
    },
    {
      "cell_type": "markdown",
      "metadata": {
        "deletable": false,
        "editable": false,
        "id": "VO2WFKYb1xLz",
        "nbgrader": {
          "cell_type": "markdown",
          "checksum": "bc9bdc751cd0b3163455955b329185d6",
          "grade": false,
          "grade_id": "cell-c7b992c89bbf7019",
          "locked": true,
          "schema_version": 3,
          "solution": false,
          "task": false
        }
      },
      "source": [
        "## 1) Prepare Data for Modeling\n",
        "\n",
        "* Using `pandas`, open the file `data.csv` as a DataFrame\n",
        "* Drop the `\"id\"` column, since this is a unique identifier and not a feature\n",
        "* Separate the data into `X` (a DataFrame with all columns except `\"target\"`) and `y` (a Series with just the `\"target\"` column)\n",
        "* The train-test split should work as-is once you create these variables"
      ]
    },
    {
      "cell_type": "code",
      "execution_count": null,
      "metadata": {
        "deletable": false,
        "id": "7J92rB2x1xLz",
        "nbgrader": {
          "cell_type": "code",
          "checksum": "8981da8ce93f009c9d384d477bba643a",
          "grade": false,
          "grade_id": "cell-d01723acad72a02e",
          "locked": false,
          "schema_version": 3,
          "solution": true,
          "task": false
        },
        "outputId": "9346311d-d8d3-49b1-f332-348278619b2a",
        "colab": {
          "base_uri": "https://localhost:8080/"
        }
      },
      "outputs": [
        {
          "output_type": "execute_result",
          "data": {
            "text/plain": [
              "(187, 300)"
            ]
          },
          "metadata": {},
          "execution_count": 8
        }
      ],
      "source": [
        "# Replace None with appropriate code\n",
        "\n",
        "# Read in the data\n",
        "df = pd.read_csv('data.csv')\n",
        "\n",
        "# Drop the \"id\" column\n",
        "df = df.drop(columns=['id'])\n",
        "\n",
        "# Separate into X and y\n",
        "X = df.drop(columns= 'target')\n",
        "y = df['target']\n",
        "\n",
        "# YOUR CODE HERE\n",
        "\n",
        "\n",
        "X_train, X_test, y_train, y_test = train_test_split(X, y, random_state=2021)\n",
        "X_train.shape"
      ]
    },
    {
      "cell_type": "code",
      "execution_count": null,
      "metadata": {
        "deletable": false,
        "editable": false,
        "id": "TY5VKA7s1xL1",
        "nbgrader": {
          "cell_type": "code",
          "checksum": "efd00e8f279a12486a39ebe9d0b2a340",
          "grade": true,
          "grade_id": "cell-a8c4e5a98a32f253",
          "locked": true,
          "points": 1,
          "schema_version": 3,
          "solution": false,
          "task": false
        }
      },
      "outputs": [],
      "source": [
        "assert type(df) == pd.DataFrame\n",
        "assert type(X) == pd.DataFrame\n",
        "assert type(y) == pd.Series\n",
        "\n",
        "# PUT ALL WORK FOR THE ABOVE QUESTION ABOVE THIS CELL\n",
        "# THIS UNALTERABLE CELL CONTAINS HIDDEN TESTS"
      ]
    },
    {
      "cell_type": "markdown",
      "metadata": {
        "deletable": false,
        "editable": false,
        "id": "ckLVOkvo1xL1",
        "nbgrader": {
          "cell_type": "markdown",
          "checksum": "af24c516130e572d62af462f72eaab03",
          "grade": false,
          "grade_id": "cell-2aa2425f887ac9b0",
          "locked": true,
          "schema_version": 3,
          "solution": false,
          "task": false
        }
      },
      "source": [
        "## 2) Instantiate a `Sequential` Model\n",
        "\n",
        "In the cell below, create an instance of a `Sequential` model ([documentation here](https://keras.io/guides/sequential_model/)) called `dense_model` with a `name` of `\"dense\"` and otherwise default arguments.\n",
        "\n",
        "*In other words, create a model without any layers. We will add layers in a future step.*"
      ]
    },
    {
      "cell_type": "code",
      "execution_count": null,
      "metadata": {
        "deletable": false,
        "id": "gKcinbZD1xL2",
        "nbgrader": {
          "cell_type": "code",
          "checksum": "2e64dee890c09a06813c902144ecc61c",
          "grade": false,
          "grade_id": "cell-6c7980c4f4e802ae",
          "locked": false,
          "schema_version": 3,
          "solution": true,
          "task": false
        },
        "outputId": "63f82317-0a2e-495d-be6c-02e0b11f6f63",
        "colab": {
          "base_uri": "https://localhost:8080/",
          "height": 35
        }
      },
      "outputs": [
        {
          "output_type": "execute_result",
          "data": {
            "text/plain": [
              "'dense'"
            ],
            "application/vnd.google.colaboratory.intrinsic+json": {
              "type": "string"
            }
          },
          "metadata": {},
          "execution_count": 11
        }
      ],
      "source": [
        "# Replace None with appropriate code\n",
        "dense_model = Sequential(name=\"dense\")\n",
        "# YOUR CODE HERE\n",
        "\n",
        "\n",
        "dense_model.name"
      ]
    },
    {
      "cell_type": "code",
      "execution_count": null,
      "metadata": {
        "deletable": false,
        "editable": false,
        "id": "FoOPsiBH1xL3",
        "nbgrader": {
          "cell_type": "code",
          "checksum": "ceff7d62d8fbdeef792392b310500944",
          "grade": true,
          "grade_id": "cell-4019299c1abee581",
          "locked": true,
          "points": 1,
          "schema_version": 3,
          "solution": false,
          "task": false
        }
      },
      "outputs": [],
      "source": [
        "# Model should not have any layers yet\n",
        "assert len(dense_model.layers) == 0\n",
        "# PUT ALL WORK FOR THE ABOVE QUESTION ABOVE THIS CELL\n",
        "# THIS UNALTERABLE CELL CONTAINS HIDDEN TESTS"
      ]
    },
    {
      "cell_type": "markdown",
      "metadata": {
        "deletable": false,
        "editable": false,
        "id": "4UlkRw8n1xL3",
        "nbgrader": {
          "cell_type": "markdown",
          "checksum": "d91a44f9adff98593a05598e6a69b31e",
          "grade": false,
          "grade_id": "cell-b777879670a57fbf",
          "locked": true,
          "schema_version": 3,
          "solution": false,
          "task": false
        }
      },
      "source": [
        "## 3) Determine Input and Output Shapes\n",
        "\n",
        "How many input and output nodes should this model have?\n",
        "\n",
        "Feel free to explore the attributes of `X` and `y` to determine this answer, or just to enter numbers based on the problem description above."
      ]
    },
    {
      "cell_type": "code",
      "source": [
        "print(X.shape)\n",
        "print(y.shape)"
      ],
      "metadata": {
        "colab": {
          "base_uri": "https://localhost:8080/"
        },
        "id": "0hnRlO0kjqeW",
        "outputId": "10234d07-8abb-42e8-e08d-63138d1efb35"
      },
      "execution_count": null,
      "outputs": [
        {
          "output_type": "stream",
          "name": "stdout",
          "text": [
            "(250, 300)\n",
            "(250,)\n"
          ]
        }
      ]
    },
    {
      "cell_type": "code",
      "execution_count": null,
      "metadata": {
        "deletable": false,
        "id": "rZZ6rNjQ1xL4",
        "nbgrader": {
          "cell_type": "code",
          "checksum": "0064473a6e96898713b151c65250a5a7",
          "grade": false,
          "grade_id": "cell-63ba55e28070fbb7",
          "locked": false,
          "schema_version": 3,
          "solution": true,
          "task": false
        }
      },
      "outputs": [],
      "source": [
        "# Replace None with appropriate code\n",
        "num_input_nodes = 300\n",
        "num_output_nodes = 1\n",
        "# YOUR CODE HERE\n"
      ]
    },
    {
      "cell_type": "code",
      "execution_count": null,
      "metadata": {
        "deletable": false,
        "editable": false,
        "id": "-Zt648de1xL5",
        "nbgrader": {
          "cell_type": "code",
          "checksum": "e91aeb6e28af50bb353803ebd2533f52",
          "grade": true,
          "grade_id": "cell-f10eae123c0da13e",
          "locked": true,
          "points": 1,
          "schema_version": 3,
          "solution": false,
          "task": false
        }
      },
      "outputs": [],
      "source": [
        "# Both values should be integers\n",
        "assert type(num_input_nodes) == int\n",
        "assert type(num_output_nodes) == int\n",
        "# PUT ALL WORK FOR THE ABOVE QUESTION ABOVE THIS CELL\n",
        "# THIS UNALTERABLE CELL CONTAINS HIDDEN TESTS"
      ]
    },
    {
      "cell_type": "markdown",
      "metadata": {
        "deletable": false,
        "editable": false,
        "id": "_VI32XdK1xL6",
        "nbgrader": {
          "cell_type": "markdown",
          "checksum": "07a79917b25aa76b6c043460535bae2d",
          "grade": false,
          "grade_id": "cell-1a3c44e684a51352",
          "locked": true,
          "schema_version": 3,
          "solution": false,
          "task": false
        }
      },
      "source": [
        "The code below will use the input and output shapes you specified to add `Dense` layers to the model:"
      ]
    },
    {
      "cell_type": "code",
      "execution_count": null,
      "metadata": {
        "deletable": false,
        "editable": false,
        "id": "rj9c-EN81xL7",
        "nbgrader": {
          "cell_type": "code",
          "checksum": "cb1f389848fff37fd281a81a41875e6a",
          "grade": false,
          "grade_id": "cell-eae488ae8a1e564b",
          "locked": true,
          "schema_version": 3,
          "solution": false,
          "task": false
        },
        "outputId": "1eff85c6-2e30-4b68-d574-2c7761ea98aa",
        "colab": {
          "base_uri": "https://localhost:8080/"
        }
      },
      "outputs": [
        {
          "output_type": "stream",
          "name": "stderr",
          "text": [
            "/usr/local/lib/python3.10/dist-packages/keras/src/layers/core/dense.py:87: UserWarning: Do not pass an `input_shape`/`input_dim` argument to a layer. When using Sequential models, prefer using an `Input(shape)` object as the first layer in the model instead.\n",
            "  super().__init__(activity_regularizer=activity_regularizer, **kwargs)\n"
          ]
        },
        {
          "output_type": "execute_result",
          "data": {
            "text/plain": [
              "[<Dense name=dense, built=True>,\n",
              " <Dense name=dense_1, built=True>,\n",
              " <Dense name=dense_2, built=True>]"
            ]
          },
          "metadata": {},
          "execution_count": 16
        }
      ],
      "source": [
        "# Run this cell without changes\n",
        "\n",
        "# Add input layer\n",
        "dense_model.add(Dense(units=64, input_shape=(num_input_nodes,)))\n",
        "\n",
        "# Add hidden layers\n",
        "dense_model.add(Dense(units=64))\n",
        "dense_model.add(Dense(units=64))\n",
        "\n",
        "dense_model.layers"
      ]
    },
    {
      "cell_type": "markdown",
      "metadata": {
        "deletable": false,
        "editable": false,
        "id": "erad_x2H1xL7",
        "nbgrader": {
          "cell_type": "markdown",
          "checksum": "00fd92a69141453a3199e7d890388099",
          "grade": false,
          "grade_id": "cell-8505e21901e1e252",
          "locked": true,
          "schema_version": 3,
          "solution": false,
          "task": false
        }
      },
      "source": [
        "## 4) Add an Output Layer\n",
        "\n",
        "Specify an appropriate activation function ([documentation here](https://keras.io/api/layers/activations/)).\n",
        "\n",
        "We'll simplify the problem by specifying that you should use the string identifier for the function, and it should be one of these options:\n",
        "\n",
        "* `sigmoid`\n",
        "* `softmax`\n",
        "\n",
        "***Hint:*** is this a binary or a multi-class problem? This should guide your choice of activation function."
      ]
    },
    {
      "cell_type": "code",
      "execution_count": null,
      "metadata": {
        "deletable": false,
        "id": "SinHIbli1xL8",
        "nbgrader": {
          "cell_type": "code",
          "checksum": "75f62114b1dac02f71ca97a1ce6f46f6",
          "grade": false,
          "grade_id": "cell-0aeea3d8ccac319e",
          "locked": false,
          "schema_version": 3,
          "solution": true,
          "task": false
        }
      },
      "outputs": [],
      "source": [
        "# Replace None with appropriate code\n",
        "activation_function = 'sigmoid'\n",
        "# YOUR CODE HERE\n"
      ]
    },
    {
      "cell_type": "code",
      "execution_count": null,
      "metadata": {
        "deletable": false,
        "editable": false,
        "id": "WMHLINeb1xL8",
        "nbgrader": {
          "cell_type": "code",
          "checksum": "731698ed2646780e9eca907c69938754",
          "grade": true,
          "grade_id": "cell-332525f03472a594",
          "locked": true,
          "points": 1,
          "schema_version": 3,
          "solution": false,
          "task": false
        }
      },
      "outputs": [],
      "source": [
        "# activation_function should be a string\n",
        "assert type(activation_function) == str\n",
        "# PUT ALL WORK FOR THE ABOVE QUESTION ABOVE THIS CELL\n",
        "# THIS UNALTERABLE CELL CONTAINS HIDDEN TESTS"
      ]
    },
    {
      "cell_type": "markdown",
      "metadata": {
        "deletable": false,
        "editable": false,
        "id": "uLOTQ2e-1xL8",
        "nbgrader": {
          "cell_type": "markdown",
          "checksum": "c511bc323b6be802283c6793e7d1786c",
          "grade": false,
          "grade_id": "cell-5c793011c6345392",
          "locked": true,
          "schema_version": 3,
          "solution": false,
          "task": false
        }
      },
      "source": [
        "Now we'll use that information to finalize the model.\n",
        "\n",
        "If this code produces an error, consider restarting the kernel and re-running the code above. If it still produces an error, that is an indication that one or more of your answers above is incorrect."
      ]
    },
    {
      "cell_type": "code",
      "execution_count": null,
      "metadata": {
        "deletable": false,
        "editable": false,
        "id": "lFIBclMv1xL8",
        "nbgrader": {
          "cell_type": "code",
          "checksum": "f553b9c658115fab4d4969f25c8c42b0",
          "grade": false,
          "grade_id": "cell-e04042f44ccb24bb",
          "locked": true,
          "schema_version": 3,
          "solution": false,
          "task": false
        },
        "outputId": "c2e878df-deff-418e-8d56-44db86aa1d1b",
        "colab": {
          "base_uri": "https://localhost:8080/",
          "height": 340
        }
      },
      "outputs": [
        {
          "output_type": "display_data",
          "data": {
            "text/plain": [
              "\u001b[1mModel: \"dense\"\u001b[0m\n"
            ],
            "text/html": [
              "<pre style=\"white-space:pre;overflow-x:auto;line-height:normal;font-family:Menlo,'DejaVu Sans Mono',consolas,'Courier New',monospace\"><span style=\"font-weight: bold\">Model: \"dense\"</span>\n",
              "</pre>\n"
            ]
          },
          "metadata": {}
        },
        {
          "output_type": "display_data",
          "data": {
            "text/plain": [
              "┏━━━━━━━━━━━━━━━━━━━━━━━━━━━━━━━━━━━━━━┳━━━━━━━━━━━━━━━━━━━━━━━━━━━━━┳━━━━━━━━━━━━━━━━━┓\n",
              "┃\u001b[1m \u001b[0m\u001b[1mLayer (type)                        \u001b[0m\u001b[1m \u001b[0m┃\u001b[1m \u001b[0m\u001b[1mOutput Shape               \u001b[0m\u001b[1m \u001b[0m┃\u001b[1m \u001b[0m\u001b[1m        Param #\u001b[0m\u001b[1m \u001b[0m┃\n",
              "┡━━━━━━━━━━━━━━━━━━━━━━━━━━━━━━━━━━━━━━╇━━━━━━━━━━━━━━━━━━━━━━━━━━━━━╇━━━━━━━━━━━━━━━━━┩\n",
              "│ dense (\u001b[38;5;33mDense\u001b[0m)                        │ (\u001b[38;5;45mNone\u001b[0m, \u001b[38;5;34m64\u001b[0m)                  │          \u001b[38;5;34m19,264\u001b[0m │\n",
              "├──────────────────────────────────────┼─────────────────────────────┼─────────────────┤\n",
              "│ dense_1 (\u001b[38;5;33mDense\u001b[0m)                      │ (\u001b[38;5;45mNone\u001b[0m, \u001b[38;5;34m64\u001b[0m)                  │           \u001b[38;5;34m4,160\u001b[0m │\n",
              "├──────────────────────────────────────┼─────────────────────────────┼─────────────────┤\n",
              "│ dense_2 (\u001b[38;5;33mDense\u001b[0m)                      │ (\u001b[38;5;45mNone\u001b[0m, \u001b[38;5;34m64\u001b[0m)                  │           \u001b[38;5;34m4,160\u001b[0m │\n",
              "├──────────────────────────────────────┼─────────────────────────────┼─────────────────┤\n",
              "│ dense_3 (\u001b[38;5;33mDense\u001b[0m)                      │ (\u001b[38;5;45mNone\u001b[0m, \u001b[38;5;34m1\u001b[0m)                   │              \u001b[38;5;34m65\u001b[0m │\n",
              "├──────────────────────────────────────┼─────────────────────────────┼─────────────────┤\n",
              "│ dense_4 (\u001b[38;5;33mDense\u001b[0m)                      │ (\u001b[38;5;45mNone\u001b[0m, \u001b[38;5;34m1\u001b[0m)                   │               \u001b[38;5;34m2\u001b[0m │\n",
              "├──────────────────────────────────────┼─────────────────────────────┼─────────────────┤\n",
              "│ dense_5 (\u001b[38;5;33mDense\u001b[0m)                      │ (\u001b[38;5;45mNone\u001b[0m, \u001b[38;5;34m1\u001b[0m)                   │               \u001b[38;5;34m2\u001b[0m │\n",
              "└──────────────────────────────────────┴─────────────────────────────┴─────────────────┘\n"
            ],
            "text/html": [
              "<pre style=\"white-space:pre;overflow-x:auto;line-height:normal;font-family:Menlo,'DejaVu Sans Mono',consolas,'Courier New',monospace\">┏━━━━━━━━━━━━━━━━━━━━━━━━━━━━━━━━━━━━━━┳━━━━━━━━━━━━━━━━━━━━━━━━━━━━━┳━━━━━━━━━━━━━━━━━┓\n",
              "┃<span style=\"font-weight: bold\"> Layer (type)                         </span>┃<span style=\"font-weight: bold\"> Output Shape                </span>┃<span style=\"font-weight: bold\">         Param # </span>┃\n",
              "┡━━━━━━━━━━━━━━━━━━━━━━━━━━━━━━━━━━━━━━╇━━━━━━━━━━━━━━━━━━━━━━━━━━━━━╇━━━━━━━━━━━━━━━━━┩\n",
              "│ dense (<span style=\"color: #0087ff; text-decoration-color: #0087ff\">Dense</span>)                        │ (<span style=\"color: #00d7ff; text-decoration-color: #00d7ff\">None</span>, <span style=\"color: #00af00; text-decoration-color: #00af00\">64</span>)                  │          <span style=\"color: #00af00; text-decoration-color: #00af00\">19,264</span> │\n",
              "├──────────────────────────────────────┼─────────────────────────────┼─────────────────┤\n",
              "│ dense_1 (<span style=\"color: #0087ff; text-decoration-color: #0087ff\">Dense</span>)                      │ (<span style=\"color: #00d7ff; text-decoration-color: #00d7ff\">None</span>, <span style=\"color: #00af00; text-decoration-color: #00af00\">64</span>)                  │           <span style=\"color: #00af00; text-decoration-color: #00af00\">4,160</span> │\n",
              "├──────────────────────────────────────┼─────────────────────────────┼─────────────────┤\n",
              "│ dense_2 (<span style=\"color: #0087ff; text-decoration-color: #0087ff\">Dense</span>)                      │ (<span style=\"color: #00d7ff; text-decoration-color: #00d7ff\">None</span>, <span style=\"color: #00af00; text-decoration-color: #00af00\">64</span>)                  │           <span style=\"color: #00af00; text-decoration-color: #00af00\">4,160</span> │\n",
              "├──────────────────────────────────────┼─────────────────────────────┼─────────────────┤\n",
              "│ dense_3 (<span style=\"color: #0087ff; text-decoration-color: #0087ff\">Dense</span>)                      │ (<span style=\"color: #00d7ff; text-decoration-color: #00d7ff\">None</span>, <span style=\"color: #00af00; text-decoration-color: #00af00\">1</span>)                   │              <span style=\"color: #00af00; text-decoration-color: #00af00\">65</span> │\n",
              "├──────────────────────────────────────┼─────────────────────────────┼─────────────────┤\n",
              "│ dense_4 (<span style=\"color: #0087ff; text-decoration-color: #0087ff\">Dense</span>)                      │ (<span style=\"color: #00d7ff; text-decoration-color: #00d7ff\">None</span>, <span style=\"color: #00af00; text-decoration-color: #00af00\">1</span>)                   │               <span style=\"color: #00af00; text-decoration-color: #00af00\">2</span> │\n",
              "├──────────────────────────────────────┼─────────────────────────────┼─────────────────┤\n",
              "│ dense_5 (<span style=\"color: #0087ff; text-decoration-color: #0087ff\">Dense</span>)                      │ (<span style=\"color: #00d7ff; text-decoration-color: #00d7ff\">None</span>, <span style=\"color: #00af00; text-decoration-color: #00af00\">1</span>)                   │               <span style=\"color: #00af00; text-decoration-color: #00af00\">2</span> │\n",
              "└──────────────────────────────────────┴─────────────────────────────┴─────────────────┘\n",
              "</pre>\n"
            ]
          },
          "metadata": {}
        },
        {
          "output_type": "display_data",
          "data": {
            "text/plain": [
              "\u001b[1m Total params: \u001b[0m\u001b[38;5;34m27,653\u001b[0m (108.02 KB)\n"
            ],
            "text/html": [
              "<pre style=\"white-space:pre;overflow-x:auto;line-height:normal;font-family:Menlo,'DejaVu Sans Mono',consolas,'Courier New',monospace\"><span style=\"font-weight: bold\"> Total params: </span><span style=\"color: #00af00; text-decoration-color: #00af00\">27,653</span> (108.02 KB)\n",
              "</pre>\n"
            ]
          },
          "metadata": {}
        },
        {
          "output_type": "display_data",
          "data": {
            "text/plain": [
              "\u001b[1m Trainable params: \u001b[0m\u001b[38;5;34m27,653\u001b[0m (108.02 KB)\n"
            ],
            "text/html": [
              "<pre style=\"white-space:pre;overflow-x:auto;line-height:normal;font-family:Menlo,'DejaVu Sans Mono',consolas,'Courier New',monospace\"><span style=\"font-weight: bold\"> Trainable params: </span><span style=\"color: #00af00; text-decoration-color: #00af00\">27,653</span> (108.02 KB)\n",
              "</pre>\n"
            ]
          },
          "metadata": {}
        },
        {
          "output_type": "display_data",
          "data": {
            "text/plain": [
              "\u001b[1m Non-trainable params: \u001b[0m\u001b[38;5;34m0\u001b[0m (0.00 B)\n"
            ],
            "text/html": [
              "<pre style=\"white-space:pre;overflow-x:auto;line-height:normal;font-family:Menlo,'DejaVu Sans Mono',consolas,'Courier New',monospace\"><span style=\"font-weight: bold\"> Non-trainable params: </span><span style=\"color: #00af00; text-decoration-color: #00af00\">0</span> (0.00 B)\n",
              "</pre>\n"
            ]
          },
          "metadata": {}
        }
      ],
      "source": [
        "# Run this cell without changes\n",
        "\n",
        "# Add output layer\n",
        "dense_model.add(Dense(units=num_output_nodes, activation=activation_function))\n",
        "\n",
        "# Determine appropriate loss function\n",
        "if num_output_nodes == 1:\n",
        "    loss = \"binary_crossentropy\"\n",
        "else:\n",
        "    loss = \"categorical_crossentropy\"\n",
        "\n",
        "# Compile model\n",
        "dense_model.compile(\n",
        "    optimizer=\"adam\",\n",
        "    loss=loss,\n",
        "    metrics=[\"accuracy\"]\n",
        ")\n",
        "\n",
        "dense_model.summary()"
      ]
    },
    {
      "cell_type": "code",
      "execution_count": null,
      "metadata": {
        "deletable": false,
        "editable": false,
        "id": "_tlPMh2Z1xL9",
        "nbgrader": {
          "cell_type": "code",
          "checksum": "ddbd30c4af96ba88062bc26bb1ffdde7",
          "grade": false,
          "grade_id": "cell-d54efbf306c08d85",
          "locked": true,
          "schema_version": 3,
          "solution": false,
          "task": false
        },
        "outputId": "255b4e89-4c45-404f-d2e1-dab571912667",
        "colab": {
          "base_uri": "https://localhost:8080/"
        }
      },
      "outputs": [
        {
          "output_type": "stream",
          "name": "stdout",
          "text": [
            "Epoch 1/20\n",
            "\u001b[1m4/4\u001b[0m \u001b[32m━━━━━━━━━━━━━━━━━━━━\u001b[0m\u001b[37m\u001b[0m \u001b[1m4s\u001b[0m 430ms/step - accuracy: 0.7705 - loss: 0.6512 - val_accuracy: 0.6267 - val_loss: 0.6725\n",
            "Epoch 2/20\n",
            "\u001b[1m4/4\u001b[0m \u001b[32m━━━━━━━━━━━━━━━━━━━━\u001b[0m\u001b[37m\u001b[0m \u001b[1m0s\u001b[0m 48ms/step - accuracy: 0.7705 - loss: 0.6388 - val_accuracy: 0.6267 - val_loss: 0.6712\n",
            "Epoch 3/20\n",
            "\u001b[1m4/4\u001b[0m \u001b[32m━━━━━━━━━━━━━━━━━━━━\u001b[0m\u001b[37m\u001b[0m \u001b[1m0s\u001b[0m 96ms/step - accuracy: 0.7705 - loss: 0.6317 - val_accuracy: 0.6267 - val_loss: 0.6695\n",
            "Epoch 4/20\n",
            "\u001b[1m4/4\u001b[0m \u001b[32m━━━━━━━━━━━━━━━━━━━━\u001b[0m\u001b[37m\u001b[0m \u001b[1m0s\u001b[0m 26ms/step - accuracy: 0.7705 - loss: 0.6263 - val_accuracy: 0.6267 - val_loss: 0.6681\n",
            "Epoch 5/20\n",
            "\u001b[1m4/4\u001b[0m \u001b[32m━━━━━━━━━━━━━━━━━━━━\u001b[0m\u001b[37m\u001b[0m \u001b[1m0s\u001b[0m 46ms/step - accuracy: 0.7705 - loss: 0.6222 - val_accuracy: 0.6267 - val_loss: 0.6671\n",
            "Epoch 6/20\n",
            "\u001b[1m4/4\u001b[0m \u001b[32m━━━━━━━━━━━━━━━━━━━━\u001b[0m\u001b[37m\u001b[0m \u001b[1m0s\u001b[0m 13ms/step - accuracy: 0.7705 - loss: 0.6191 - val_accuracy: 0.6267 - val_loss: 0.6663\n",
            "Epoch 7/20\n",
            "\u001b[1m4/4\u001b[0m \u001b[32m━━━━━━━━━━━━━━━━━━━━\u001b[0m\u001b[37m\u001b[0m \u001b[1m0s\u001b[0m 18ms/step - accuracy: 0.7705 - loss: 0.6168 - val_accuracy: 0.6267 - val_loss: 0.6656\n",
            "Epoch 8/20\n",
            "\u001b[1m4/4\u001b[0m \u001b[32m━━━━━━━━━━━━━━━━━━━━\u001b[0m\u001b[37m\u001b[0m \u001b[1m0s\u001b[0m 14ms/step - accuracy: 0.7705 - loss: 0.6149 - val_accuracy: 0.6267 - val_loss: 0.6649\n",
            "Epoch 9/20\n",
            "\u001b[1m4/4\u001b[0m \u001b[32m━━━━━━━━━━━━━━━━━━━━\u001b[0m\u001b[37m\u001b[0m \u001b[1m0s\u001b[0m 19ms/step - accuracy: 0.7705 - loss: 0.6132 - val_accuracy: 0.6267 - val_loss: 0.6642\n",
            "Epoch 10/20\n",
            "\u001b[1m4/4\u001b[0m \u001b[32m━━━━━━━━━━━━━━━━━━━━\u001b[0m\u001b[37m\u001b[0m \u001b[1m0s\u001b[0m 14ms/step - accuracy: 0.7705 - loss: 0.6113 - val_accuracy: 0.6267 - val_loss: 0.6635\n",
            "Epoch 11/20\n",
            "\u001b[1m4/4\u001b[0m \u001b[32m━━━━━━━━━━━━━━━━━━━━\u001b[0m\u001b[37m\u001b[0m \u001b[1m0s\u001b[0m 13ms/step - accuracy: 0.7705 - loss: 0.6098 - val_accuracy: 0.6267 - val_loss: 0.6629\n",
            "Epoch 12/20\n",
            "\u001b[1m4/4\u001b[0m \u001b[32m━━━━━━━━━━━━━━━━━━━━\u001b[0m\u001b[37m\u001b[0m \u001b[1m0s\u001b[0m 18ms/step - accuracy: 0.7705 - loss: 0.6083 - val_accuracy: 0.6267 - val_loss: 0.6624\n",
            "Epoch 13/20\n",
            "\u001b[1m4/4\u001b[0m \u001b[32m━━━━━━━━━━━━━━━━━━━━\u001b[0m\u001b[37m\u001b[0m \u001b[1m0s\u001b[0m 18ms/step - accuracy: 0.7705 - loss: 0.6068 - val_accuracy: 0.6267 - val_loss: 0.6618\n",
            "Epoch 14/20\n",
            "\u001b[1m4/4\u001b[0m \u001b[32m━━━━━━━━━━━━━━━━━━━━\u001b[0m\u001b[37m\u001b[0m \u001b[1m0s\u001b[0m 13ms/step - accuracy: 0.7705 - loss: 0.6053 - val_accuracy: 0.6267 - val_loss: 0.6611\n",
            "Epoch 15/20\n",
            "\u001b[1m4/4\u001b[0m \u001b[32m━━━━━━━━━━━━━━━━━━━━\u001b[0m\u001b[37m\u001b[0m \u001b[1m0s\u001b[0m 20ms/step - accuracy: 0.7705 - loss: 0.6037 - val_accuracy: 0.6267 - val_loss: 0.6602\n",
            "Epoch 16/20\n",
            "\u001b[1m4/4\u001b[0m \u001b[32m━━━━━━━━━━━━━━━━━━━━\u001b[0m\u001b[37m\u001b[0m \u001b[1m0s\u001b[0m 18ms/step - accuracy: 0.7705 - loss: 0.6022 - val_accuracy: 0.6267 - val_loss: 0.6594\n",
            "Epoch 17/20\n",
            "\u001b[1m4/4\u001b[0m \u001b[32m━━━━━━━━━━━━━━━━━━━━\u001b[0m\u001b[37m\u001b[0m \u001b[1m0s\u001b[0m 18ms/step - accuracy: 0.7705 - loss: 0.6008 - val_accuracy: 0.6267 - val_loss: 0.6587\n",
            "Epoch 18/20\n",
            "\u001b[1m4/4\u001b[0m \u001b[32m━━━━━━━━━━━━━━━━━━━━\u001b[0m\u001b[37m\u001b[0m \u001b[1m0s\u001b[0m 19ms/step - accuracy: 0.7705 - loss: 0.5993 - val_accuracy: 0.6267 - val_loss: 0.6581\n",
            "Epoch 19/20\n",
            "\u001b[1m4/4\u001b[0m \u001b[32m━━━━━━━━━━━━━━━━━━━━\u001b[0m\u001b[37m\u001b[0m \u001b[1m0s\u001b[0m 14ms/step - accuracy: 0.7705 - loss: 0.5979 - val_accuracy: 0.6267 - val_loss: 0.6576\n",
            "Epoch 20/20\n",
            "\u001b[1m4/4\u001b[0m \u001b[32m━━━━━━━━━━━━━━━━━━━━\u001b[0m\u001b[37m\u001b[0m \u001b[1m0s\u001b[0m 19ms/step - accuracy: 0.7705 - loss: 0.5965 - val_accuracy: 0.6267 - val_loss: 0.6571\n"
          ]
        }
      ],
      "source": [
        "# Run this cell without changes\n",
        "\n",
        "# Fit the model to the training data, using a subset of the\n",
        "# training data as validation data\n",
        "dense_model_results = dense_model.fit(\n",
        "    x=X_train,\n",
        "    y=y_train,\n",
        "    batch_size=None,\n",
        "    epochs=20,\n",
        "    verbose=1,\n",
        "    validation_split=0.4,\n",
        "    shuffle=False\n",
        ")"
      ]
    },
    {
      "cell_type": "code",
      "execution_count": null,
      "metadata": {
        "deletable": false,
        "editable": false,
        "id": "BwFuaYTr1xL9",
        "nbgrader": {
          "cell_type": "code",
          "checksum": "b9ff4552d302d20d5c4535d3987b2901",
          "grade": false,
          "grade_id": "cell-0639b5c80e98ab40",
          "locked": true,
          "schema_version": 3,
          "solution": false,
          "task": false
        },
        "outputId": "82b18f6e-6996-4cc0-8971-4c8b5f2e0ba7",
        "colab": {
          "base_uri": "https://localhost:8080/",
          "height": 468
        }
      },
      "outputs": [
        {
          "output_type": "display_data",
          "data": {
            "text/plain": [
              "<Figure size 1000x500 with 2 Axes>"
            ],
            "image/png": "[encoded data removed]"
          },
          "metadata": {}
        }
      ],
      "source": [
        "# Run this cell without changes\n",
        "\n",
        "def plot_loss_and_accuracy(results, final=False):\n",
        "\n",
        "    if final:\n",
        "        val_label=\"test\"\n",
        "    else:\n",
        "        val_label=\"validation\"\n",
        "\n",
        "    # Extracting metrics from model fitting\n",
        "    train_loss = results.history['loss']\n",
        "    val_loss = results.history['val_loss']\n",
        "    train_accuracy = results.history['accuracy']\n",
        "    val_accuracy = results.history['val_accuracy']\n",
        "\n",
        "    # Setting up plots\n",
        "    fig, (ax1, ax2) = plt.subplots(1, 2, figsize=(10, 5))\n",
        "\n",
        "    # Plotting loss info\n",
        "    ax1.set_title(\"Loss\")\n",
        "    sns.lineplot(x=results.epoch, y=train_loss, ax=ax1, label=\"train\")\n",
        "    sns.lineplot(x=results.epoch, y=val_loss, ax=ax1, label=val_label)\n",
        "    ax1.legend()\n",
        "\n",
        "    # Plotting accuracy info\n",
        "    ax2.set_title(\"Accuracy\")\n",
        "    sns.lineplot(x=results.epoch, y=train_accuracy, ax=ax2, label=\"train\")\n",
        "    sns.lineplot(x=results.epoch, y=val_accuracy, ax=ax2, label=val_label)\n",
        "    ax2.legend()\n",
        "\n",
        "plot_loss_and_accuracy(dense_model_results)"
      ]
    },
    {
      "cell_type": "markdown",
      "metadata": {
        "deletable": false,
        "editable": false,
        "id": "sy4jJmEG1xL-",
        "nbgrader": {
          "cell_type": "markdown",
          "checksum": "0947cc1f6fc94d78d5813a79fbea282f",
          "grade": false,
          "grade_id": "cell-3ee94fdb73f6a0bd",
          "locked": true,
          "schema_version": 3,
          "solution": false,
          "task": false
        }
      },
      "source": [
        "## 5) Modify the Code Below to Use Regularization\n",
        "\n",
        "\n",
        "The model appears to be overfitting. To deal with this overfitting, modify the code below to include regularization in the model. You can add L1, L2, both L1 and L2, or dropout regularization.\n",
        "\n",
        "Hint: these might be helpful\n",
        "\n",
        " - [`Dense` layer documentation](https://keras.io/api/layers/core_layers/dense/)\n",
        " - [`regularizers` documentation](https://keras.io/regularizers/)\n",
        "\n",
        "(`EarlyStopping` is a type of regularization that is not applicable to this problem framing, since it's a callback and not a layer.)"
      ]
    },
    {
      "cell_type": "code",
      "execution_count": null,
      "metadata": {
        "ExecuteTime": {
          "end_time": "2020-11-04T16:48:46.721530Z",
          "start_time": "2020-11-04T16:48:46.715001Z"
        },
        "deletable": false,
        "id": "HSKvXMVK1xL-",
        "nbgrader": {
          "cell_type": "code",
          "checksum": "a5bff095b863ecf14af3a3df4f07b24d",
          "grade": false,
          "grade_id": "cell-143a65663b1d4c26",
          "locked": false,
          "schema_version": 3,
          "solution": true,
          "task": false
        },
        "outputId": "d04808a5-7e84-4719-c1f5-4094ec5e15c3",
        "colab": {
          "base_uri": "https://localhost:8080/",
          "height": 361
        }
      },
      "outputs": [
        {
          "output_type": "stream",
          "name": "stderr",
          "text": [
            "/usr/local/lib/python3.10/dist-packages/keras/src/layers/core/dense.py:87: UserWarning: Do not pass an `input_shape`/`input_dim` argument to a layer. When using Sequential models, prefer using an `Input(shape)` object as the first layer in the model instead.\n",
            "  super().__init__(activity_regularizer=activity_regularizer, **kwargs)\n"
          ]
        },
        {
          "output_type": "display_data",
          "data": {
            "text/plain": [
              "\u001b[1mModel: \"regularized\"\u001b[0m\n"
            ],
            "text/html": [
              "<pre style=\"white-space:pre;overflow-x:auto;line-height:normal;font-family:Menlo,'DejaVu Sans Mono',consolas,'Courier New',monospace\"><span style=\"font-weight: bold\">Model: \"regularized\"</span>\n",
              "</pre>\n"
            ]
          },
          "metadata": {}
        },
        {
          "output_type": "display_data",
          "data": {
            "text/plain": [
              "┏━━━━━━━━━━━━━━━━━━━━━━━━━━━━━━━━━━━━━━┳━━━━━━━━━━━━━━━━━━━━━━━━━━━━━┳━━━━━━━━━━━━━━━━━┓\n",
              "┃\u001b[1m \u001b[0m\u001b[1mLayer (type)                        \u001b[0m\u001b[1m \u001b[0m┃\u001b[1m \u001b[0m\u001b[1mOutput Shape               \u001b[0m\u001b[1m \u001b[0m┃\u001b[1m \u001b[0m\u001b[1m        Param #\u001b[0m\u001b[1m \u001b[0m┃\n",
              "┡━━━━━━━━━━━━━━━━━━━━━━━━━━━━━━━━━━━━━━╇━━━━━━━━━━━━━━━━━━━━━━━━━━━━━╇━━━━━━━━━━━━━━━━━┩\n",
              "│ dense_6 (\u001b[38;5;33mDense\u001b[0m)                      │ (\u001b[38;5;45mNone\u001b[0m, \u001b[38;5;34m64\u001b[0m)                  │          \u001b[38;5;34m19,264\u001b[0m │\n",
              "├──────────────────────────────────────┼─────────────────────────────┼─────────────────┤\n",
              "│ dropout (\u001b[38;5;33mDropout\u001b[0m)                    │ (\u001b[38;5;45mNone\u001b[0m, \u001b[38;5;34m64\u001b[0m)                  │               \u001b[38;5;34m0\u001b[0m │\n",
              "├──────────────────────────────────────┼─────────────────────────────┼─────────────────┤\n",
              "│ dense_7 (\u001b[38;5;33mDense\u001b[0m)                      │ (\u001b[38;5;45mNone\u001b[0m, \u001b[38;5;34m64\u001b[0m)                  │           \u001b[38;5;34m4,160\u001b[0m │\n",
              "├──────────────────────────────────────┼─────────────────────────────┼─────────────────┤\n",
              "│ dropout_1 (\u001b[38;5;33mDropout\u001b[0m)                  │ (\u001b[38;5;45mNone\u001b[0m, \u001b[38;5;34m64\u001b[0m)                  │               \u001b[38;5;34m0\u001b[0m │\n",
              "├──────────────────────────────────────┼─────────────────────────────┼─────────────────┤\n",
              "│ dense_8 (\u001b[38;5;33mDense\u001b[0m)                      │ (\u001b[38;5;45mNone\u001b[0m, \u001b[38;5;34m1\u001b[0m)                   │              \u001b[38;5;34m65\u001b[0m │\n",
              "└──────────────────────────────────────┴─────────────────────────────┴─────────────────┘\n"
            ],
            "text/html": [
              "<pre style=\"white-space:pre;overflow-x:auto;line-height:normal;font-family:Menlo,'DejaVu Sans Mono',consolas,'Courier New',monospace\">┏━━━━━━━━━━━━━━━━━━━━━━━━━━━━━━━━━━━━━━┳━━━━━━━━━━━━━━━━━━━━━━━━━━━━━┳━━━━━━━━━━━━━━━━━┓\n",
              "┃<span style=\"font-weight: bold\"> Layer (type)                         </span>┃<span style=\"font-weight: bold\"> Output Shape                </span>┃<span style=\"font-weight: bold\">         Param # </span>┃\n",
              "┡━━━━━━━━━━━━━━━━━━━━━━━━━━━━━━━━━━━━━━╇━━━━━━━━━━━━━━━━━━━━━━━━━━━━━╇━━━━━━━━━━━━━━━━━┩\n",
              "│ dense_6 (<span style=\"color: #0087ff; text-decoration-color: #0087ff\">Dense</span>)                      │ (<span style=\"color: #00d7ff; text-decoration-color: #00d7ff\">None</span>, <span style=\"color: #00af00; text-decoration-color: #00af00\">64</span>)                  │          <span style=\"color: #00af00; text-decoration-color: #00af00\">19,264</span> │\n",
              "├──────────────────────────────────────┼─────────────────────────────┼─────────────────┤\n",
              "│ dropout (<span style=\"color: #0087ff; text-decoration-color: #0087ff\">Dropout</span>)                    │ (<span style=\"color: #00d7ff; text-decoration-color: #00d7ff\">None</span>, <span style=\"color: #00af00; text-decoration-color: #00af00\">64</span>)                  │               <span style=\"color: #00af00; text-decoration-color: #00af00\">0</span> │\n",
              "├──────────────────────────────────────┼─────────────────────────────┼─────────────────┤\n",
              "│ dense_7 (<span style=\"color: #0087ff; text-decoration-color: #0087ff\">Dense</span>)                      │ (<span style=\"color: #00d7ff; text-decoration-color: #00d7ff\">None</span>, <span style=\"color: #00af00; text-decoration-color: #00af00\">64</span>)                  │           <span style=\"color: #00af00; text-decoration-color: #00af00\">4,160</span> │\n",
              "├──────────────────────────────────────┼─────────────────────────────┼─────────────────┤\n",
              "│ dropout_1 (<span style=\"color: #0087ff; text-decoration-color: #0087ff\">Dropout</span>)                  │ (<span style=\"color: #00d7ff; text-decoration-color: #00d7ff\">None</span>, <span style=\"color: #00af00; text-decoration-color: #00af00\">64</span>)                  │               <span style=\"color: #00af00; text-decoration-color: #00af00\">0</span> │\n",
              "├──────────────────────────────────────┼─────────────────────────────┼─────────────────┤\n",
              "│ dense_8 (<span style=\"color: #0087ff; text-decoration-color: #0087ff\">Dense</span>)                      │ (<span style=\"color: #00d7ff; text-decoration-color: #00d7ff\">None</span>, <span style=\"color: #00af00; text-decoration-color: #00af00\">1</span>)                   │              <span style=\"color: #00af00; text-decoration-color: #00af00\">65</span> │\n",
              "└──────────────────────────────────────┴─────────────────────────────┴─────────────────┘\n",
              "</pre>\n"
            ]
          },
          "metadata": {}
        },
        {
          "output_type": "display_data",
          "data": {
            "text/plain": [
              "\u001b[1m Total params: \u001b[0m\u001b[38;5;34m23,489\u001b[0m (91.75 KB)\n"
            ],
            "text/html": [
              "<pre style=\"white-space:pre;overflow-x:auto;line-height:normal;font-family:Menlo,'DejaVu Sans Mono',consolas,'Courier New',monospace\"><span style=\"font-weight: bold\"> Total params: </span><span style=\"color: #00af00; text-decoration-color: #00af00\">23,489</span> (91.75 KB)\n",
              "</pre>\n"
            ]
          },
          "metadata": {}
        },
        {
          "output_type": "display_data",
          "data": {
            "text/plain": [
              "\u001b[1m Trainable params: \u001b[0m\u001b[38;5;34m23,489\u001b[0m (91.75 KB)\n"
            ],
            "text/html": [
              "<pre style=\"white-space:pre;overflow-x:auto;line-height:normal;font-family:Menlo,'DejaVu Sans Mono',consolas,'Courier New',monospace\"><span style=\"font-weight: bold\"> Trainable params: </span><span style=\"color: #00af00; text-decoration-color: #00af00\">23,489</span> (91.75 KB)\n",
              "</pre>\n"
            ]
          },
          "metadata": {}
        },
        {
          "output_type": "display_data",
          "data": {
            "text/plain": [
              "\u001b[1m Non-trainable params: \u001b[0m\u001b[38;5;34m0\u001b[0m (0.00 B)\n"
            ],
            "text/html": [
              "<pre style=\"white-space:pre;overflow-x:auto;line-height:normal;font-family:Menlo,'DejaVu Sans Mono',consolas,'Courier New',monospace\"><span style=\"font-weight: bold\"> Non-trainable params: </span><span style=\"color: #00af00; text-decoration-color: #00af00\">0</span> (0.00 B)\n",
              "</pre>\n"
            ]
          },
          "metadata": {}
        }
      ],
      "source": [
        "def build_model_with_regularization(n_input, n_output, activation, loss):\n",
        "    \"\"\"\n",
        "    Creates and compiles a tf.keras Sequential model with two hidden layers\n",
        "    This time regularization has been added\n",
        "    \"\"\"\n",
        "    # create classifier\n",
        "    classifier = Sequential(name=\"regularized\")\n",
        "\n",
        "    # add input layer\n",
        "    classifier.add(Dense(units=64, input_shape=(n_input,),\n",
        "                         kernel_regularizer=regularizers.l2(0.01), activation='relu'))\n",
        "\n",
        "    # add hidden layers\n",
        "    classifier.add(Dropout(0.5))\n",
        "    # YOUR CODE HERE\n",
        "    classifier.add(Dense(units=64,\n",
        "                         kernel_regularizer=regularizers.l2(0.01), activation='relu'))\n",
        "\n",
        "    classifier.add(Dropout(0.5))\n",
        "    # add output layer\n",
        "    classifier.add(Dense(units=n_output, activation=activation))\n",
        "\n",
        "    classifier.compile(optimizer='adam', loss=loss, metrics=['accuracy'])\n",
        "    return classifier\n",
        "\n",
        "model_with_regularization = build_model_with_regularization(\n",
        "    num_input_nodes, num_output_nodes, activation_function, loss\n",
        ")\n",
        "model_with_regularization.summary()"
      ]
    },
    {
      "cell_type": "code",
      "execution_count": null,
      "metadata": {
        "ExecuteTime": {
          "end_time": "2020-11-04T16:48:47.310049Z",
          "start_time": "2020-11-04T16:48:47.265185Z"
        },
        "code_folding": [],
        "deletable": false,
        "editable": false,
        "id": "zt1ZkKCj1xL_",
        "nbgrader": {
          "cell_type": "code",
          "checksum": "92c5717f24afa0cb797190731eb573f1",
          "grade": true,
          "grade_id": "cell-45429cad9bc0ca12",
          "locked": true,
          "points": 1,
          "schema_version": 3,
          "solution": false,
          "task": false
        }
      },
      "outputs": [],
      "source": [
        "# Testing function to build model\n",
        "assert type(model_with_regularization) == Sequential\n",
        "\n",
        "# PUT ALL WORK FOR THE ABOVE QUESTION ABOVE THIS CELL\n",
        "# THIS UNALTERABLE CELL CONTAINS HIDDEN TESTS"
      ]
    },
    {
      "cell_type": "markdown",
      "metadata": {
        "deletable": false,
        "editable": false,
        "id": "Y5yIGSQz1xL_",
        "nbgrader": {
          "cell_type": "markdown",
          "checksum": "80c8a572ad03c25a413a7667beb97885",
          "grade": false,
          "grade_id": "cell-b13c2342c3515ca5",
          "locked": true,
          "schema_version": 3,
          "solution": false,
          "task": false
        }
      },
      "source": [
        "Now we'll evaluate the new model on the training set as well:"
      ]
    },
    {
      "cell_type": "code",
      "execution_count": null,
      "metadata": {
        "deletable": false,
        "editable": false,
        "id": "oSMBNyR31xMA",
        "nbgrader": {
          "cell_type": "code",
          "checksum": "4d48128705c50ede59eca2b7102efd0a",
          "grade": false,
          "grade_id": "cell-87e75ce032ca5468",
          "locked": true,
          "schema_version": 3,
          "solution": false,
          "task": false
        },
        "outputId": "d6132fa0-4f0f-4c1c-e829-a40d909ae871",
        "colab": {
          "base_uri": "https://localhost:8080/",
          "height": 468
        }
      },
      "outputs": [
        {
          "output_type": "display_data",
          "data": {
            "text/plain": [
              "<Figure size 1000x500 with 2 Axes>"
            ],
            "image/png": "[encoded data removed]"
          },
          "metadata": {}
        }
      ],
      "source": [
        "# Run this cell without changes\n",
        "\n",
        "# Fit the model to the training data, using a subset of the\n",
        "# training data as validation data\n",
        "reg_model_results = model_with_regularization.fit(\n",
        "    x=X_train,\n",
        "    y=y_train,\n",
        "    batch_size=None,\n",
        "    epochs=20,\n",
        "    verbose=0,\n",
        "    validation_split=0.4,\n",
        "    shuffle=False\n",
        ")\n",
        "\n",
        "plot_loss_and_accuracy(reg_model_results)"
      ]
    },
    {
      "cell_type": "markdown",
      "metadata": {
        "deletable": false,
        "editable": false,
        "id": "v3XxYer81xMA",
        "nbgrader": {
          "cell_type": "markdown",
          "checksum": "9cb8eef20dd5961b0dea90e266a42af0",
          "grade": false,
          "grade_id": "cell-cdcc2db42e9c92a2",
          "locked": true,
          "schema_version": 3,
          "solution": false,
          "task": false
        }
      },
      "source": [
        "(Whether or not your regularization made a difference will partially depend on how strong of regularization you applied, as well as some random elements of your current TensorFlow configuration.)\n",
        "\n",
        "Now we evaluate both models on the holdout set:"
      ]
    },
    {
      "cell_type": "code",
      "execution_count": null,
      "metadata": {
        "id": "IIix8h4D1xMB",
        "outputId": "013ab847-b028-4f6f-9707-d2d7956df998",
        "colab": {
          "base_uri": "https://localhost:8080/",
          "height": 468
        }
      },
      "outputs": [
        {
          "output_type": "display_data",
          "data": {
            "text/plain": [
              "<Figure size 1000x500 with 2 Axes>"
            ],
            "image/png": "[encoded data removed]"
          },
          "metadata": {}
        }
      ],
      "source": [
        "# Run this cell without changes\n",
        "\n",
        "final_dense_model_results = dense_model.fit(\n",
        "    x=X_train,\n",
        "    y=y_train,\n",
        "    batch_size=None,\n",
        "    epochs=20,\n",
        "    verbose=0,\n",
        "    validation_data=(X_test, y_test),\n",
        "    shuffle=False\n",
        ")\n",
        "\n",
        "plot_loss_and_accuracy(final_dense_model_results, final=True)"
      ]
    },
    {
      "cell_type": "code",
      "execution_count": null,
      "metadata": {
        "id": "2qPPZqhj1xMB",
        "outputId": "bb3266c8-f2fd-4264-bec0-2eb6ee307c60",
        "colab": {
          "base_uri": "https://localhost:8080/",
          "height": 468
        }
      },
      "outputs": [
        {
          "output_type": "display_data",
          "data": {
            "text/plain": [
              "<Figure size 1000x500 with 2 Axes>"
            ],
            "image/png": "[encoded data removed]"
          },
          "metadata": {}
        }
      ],
      "source": [
        "final_reg_model_results = model_with_regularization.fit(\n",
        "    x=X_train,\n",
        "    y=y_train,\n",
        "    batch_size=None,\n",
        "    epochs=20,\n",
        "    verbose=0,\n",
        "    validation_data=(X_test, y_test),\n",
        "    shuffle=False\n",
        ")\n",
        "\n",
        "plot_loss_and_accuracy(final_reg_model_results, final=True)"
      ]
    }
  ],
  "metadata": {
    "colab": {
      "provenance": []
    },
    "kernelspec": {
      "display_name": "Python 3 (ipykernel)",
      "language": "python",
      "name": "python3"
    },
    "language_info": {
      "codemirror_mode": {
        "name": "ipython",
        "version": 3
      },
      "file_extension": ".py",
      "mimetype": "text/x-python",
      "name": "python",
      "nbconvert_exporter": "python",
      "pygments_lexer": "ipython3",
      "version": "3.12.0"
    },
    "toc": {
      "base_numbering": 1,
      "nav_menu": {},
      "number_sections": false,
      "sideBar": true,
      "skip_h1_title": true,
      "title_cell": "Table of Contents",
      "title_sidebar": "Contents",
      "toc_cell": false,
      "toc_position": {},
      "toc_section_display": true,
      "toc_window_display": false
    },
    "varInspector": {
      "cols": {
        "lenName": 16,
        "lenType": 16,
        "lenVar": 40
      },
      "kernels_config": {
        "python": {
          "delete_cmd_postfix": "",
          "delete_cmd_prefix": "del ",
          "library": "var_list.py",
          "varRefreshCmd": "print(var_dic_list())"
        },
        "r": {
          "delete_cmd_postfix": ") ",
          "delete_cmd_prefix": "rm(",
          "library": "var_list.r",
          "varRefreshCmd": "cat(var_dic_list()) "
        }
      },
      "types_to_exclude": [
        "module",
        "function",
        "builtin_function_or_method",
        "instance",
        "_Feature"
      ],
      "window_display": false
    }
  },
  "nbformat": 4,
  "nbformat_minor": 0
}